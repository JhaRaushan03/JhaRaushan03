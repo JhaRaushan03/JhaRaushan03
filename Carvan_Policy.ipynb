{
  "cells": [
    {
      "cell_type": "markdown",
      "metadata": {
        "id": "view-in-github",
        "colab_type": "text"
      },
      "source": [
        "<a href=\"https://colab.research.google.com/github/JhaRaushan03/JhaRaushan03/blob/main/Carvan_Policy.ipynb\" target=\"_parent\"><img src=\"https://colab.research.google.com/assets/colab-badge.svg\" alt=\"Open In Colab\"/></a>"
      ]
    },
    {
      "cell_type": "code",
      "execution_count": 1,
      "metadata": {
        "id": "7xjeu_zNp75k"
      },
      "outputs": [],
      "source": [
        "import math\n",
        "import numpy as np\n",
        "import pandas as pd\n",
        "import time"
      ]
    },
    {
      "cell_type": "code",
      "execution_count": 2,
      "metadata": {
        "id": "CoKaFdldp75y"
      },
      "outputs": [],
      "source": [
        "train_data = 'carvan_train.csv'\n",
        "test_data = 'carvan_test.csv'"
      ]
    },
    {
      "cell_type": "code",
      "execution_count": 3,
      "metadata": {
        "id": "Inn3ZNNep750"
      },
      "outputs": [],
      "source": [
        "cct = pd.read_csv(train_data)\n",
        "ccts = pd.read_csv(test_data)"
      ]
    },
    {
      "cell_type": "code",
      "execution_count": 4,
      "metadata": {
        "id": "0jauU-0np751"
      },
      "outputs": [],
      "source": [
        "ccts['V86'] = pd.Series([0]* len(ccts['V1']))"
      ]
    },
    {
      "cell_type": "code",
      "execution_count": 5,
      "metadata": {
        "id": "y0aMb86Zp753"
      },
      "outputs": [],
      "source": [
        "cct['dtype'] = pd.Series(['train']*len(cct['V1']))"
      ]
    },
    {
      "cell_type": "code",
      "execution_count": 6,
      "metadata": {
        "id": "IA4-sUEHp754"
      },
      "outputs": [],
      "source": [
        "ccts['dtype'] = pd.Series(['test']*len(ccts['V1']))"
      ]
    },
    {
      "cell_type": "code",
      "execution_count": 7,
      "metadata": {
        "id": "EZ5qqe-Zp755"
      },
      "outputs": [],
      "source": [
        "ccts = pd.DataFrame(data = ccts)"
      ]
    },
    {
      "cell_type": "code",
      "execution_count": 8,
      "metadata": {
        "id": "jBemQ_7xp757"
      },
      "outputs": [],
      "source": [
        "cct = pd.DataFrame(data = cct)"
      ]
    },
    {
      "cell_type": "code",
      "execution_count": 9,
      "metadata": {
        "id": "tdBhdd1Tp758"
      },
      "outputs": [],
      "source": [
        "All_data = cct.append(ccts)"
      ]
    },
    {
      "cell_type": "code",
      "execution_count": 10,
      "metadata": {
        "colab": {
          "base_uri": "https://localhost:8080/"
        },
        "id": "I78oOzJPp75-",
        "outputId": "e3bcdcbf-9bc8-4817-b10e-a9fddc87e3a3"
      },
      "outputs": [
        {
          "output_type": "execute_result",
          "data": {
            "text/plain": [
              "V1        int64\n",
              "V2        int64\n",
              "V3        int64\n",
              "V4        int64\n",
              "V5        int64\n",
              "          ...  \n",
              "V83       int64\n",
              "V84       int64\n",
              "V85       int64\n",
              "V86       int64\n",
              "dtype    object\n",
              "Length: 87, dtype: object"
            ]
          },
          "metadata": {},
          "execution_count": 10
        }
      ],
      "source": [
        "All_data.dtypes"
      ]
    },
    {
      "cell_type": "code",
      "execution_count": 11,
      "metadata": {
        "colab": {
          "base_uri": "https://localhost:8080/"
        },
        "id": "tRi8gAXsp76B",
        "outputId": "b828db0e-48a5-40dc-86ca-80eec352c6c9"
      },
      "outputs": [
        {
          "output_type": "execute_result",
          "data": {
            "text/plain": [
              "['V1',\n",
              " 'V2',\n",
              " 'V3',\n",
              " 'V4',\n",
              " 'V5',\n",
              " 'V6',\n",
              " 'V7',\n",
              " 'V8',\n",
              " 'V9',\n",
              " 'V10',\n",
              " 'V11',\n",
              " 'V12',\n",
              " 'V13',\n",
              " 'V14',\n",
              " 'V15',\n",
              " 'V16',\n",
              " 'V17',\n",
              " 'V18',\n",
              " 'V19',\n",
              " 'V20',\n",
              " 'V21',\n",
              " 'V22',\n",
              " 'V23',\n",
              " 'V24',\n",
              " 'V25',\n",
              " 'V26',\n",
              " 'V27',\n",
              " 'V28',\n",
              " 'V29',\n",
              " 'V30',\n",
              " 'V31',\n",
              " 'V32',\n",
              " 'V33',\n",
              " 'V34',\n",
              " 'V35',\n",
              " 'V36',\n",
              " 'V37',\n",
              " 'V38',\n",
              " 'V39',\n",
              " 'V40',\n",
              " 'V41',\n",
              " 'V42',\n",
              " 'V43',\n",
              " 'V44',\n",
              " 'V45',\n",
              " 'V46',\n",
              " 'V47',\n",
              " 'V48',\n",
              " 'V49',\n",
              " 'V50',\n",
              " 'V51',\n",
              " 'V52',\n",
              " 'V53',\n",
              " 'V54',\n",
              " 'V55',\n",
              " 'V56',\n",
              " 'V57',\n",
              " 'V58',\n",
              " 'V59',\n",
              " 'V60',\n",
              " 'V61',\n",
              " 'V62',\n",
              " 'V63',\n",
              " 'V64',\n",
              " 'V65',\n",
              " 'V66',\n",
              " 'V67',\n",
              " 'V68',\n",
              " 'V69',\n",
              " 'V70',\n",
              " 'V71',\n",
              " 'V72',\n",
              " 'V73',\n",
              " 'V74',\n",
              " 'V75',\n",
              " 'V76',\n",
              " 'V77',\n",
              " 'V78',\n",
              " 'V79',\n",
              " 'V80',\n",
              " 'V81',\n",
              " 'V82',\n",
              " 'V83',\n",
              " 'V84',\n",
              " 'V85',\n",
              " 'V86',\n",
              " 'dtype']"
            ]
          },
          "metadata": {},
          "execution_count": 11
        }
      ],
      "source": [
        "a = list(All_data.columns.values)\n",
        "a"
      ]
    },
    {
      "cell_type": "code",
      "execution_count": 12,
      "metadata": {
        "colab": {
          "base_uri": "https://localhost:8080/"
        },
        "id": "5fcYqu_Mp76C",
        "outputId": "a7bafa06-5fea-4d2d-97e8-6857f51eca2f"
      },
      "outputs": [
        {
          "output_type": "stream",
          "name": "stdout",
          "text": [
            "33    1401\n",
            "38     569\n",
            "8      546\n",
            "39     542\n",
            "9      460\n",
            "3      433\n",
            "23     376\n",
            "36     373\n",
            "35     362\n",
            "41     355\n",
            "34     325\n",
            "24     324\n",
            "31     318\n",
            "13     302\n",
            "11     286\n",
            "10     271\n",
            "32     234\n",
            "37     233\n",
            "1      218\n",
            "6      209\n",
            "12     194\n",
            "30     190\n",
            "22     169\n",
            "2      148\n",
            "29     139\n",
            "40     137\n",
            "25     129\n",
            "4       90\n",
            "26      79\n",
            "27      77\n",
            "7       72\n",
            "5       70\n",
            "20      42\n",
            "28      41\n",
            "21      29\n",
            "18      27\n",
            "16      25\n",
            "17      13\n",
            "15       7\n",
            "19       7\n",
            "Name: V1, dtype: int64\n",
            "1     8915\n",
            "2      821\n",
            "3       64\n",
            "7        8\n",
            "4        4\n",
            "5        3\n",
            "6        3\n",
            "10       2\n",
            "8        2\n",
            "Name: V2, dtype: int64\n",
            "3    4513\n",
            "2    3616\n",
            "4    1132\n",
            "1     452\n",
            "5     106\n",
            "6       3\n",
            "Name: V3, dtype: int64\n",
            "3    5154\n",
            "2    2409\n",
            "4    1777\n",
            "5     329\n",
            "1     104\n",
            "6      49\n",
            "Name: V4, dtype: int64\n",
            "8     2694\n",
            "3     1513\n",
            "9     1111\n",
            "1      959\n",
            "5      940\n",
            "7      881\n",
            "2      827\n",
            "10     492\n",
            "6      326\n",
            "4       79\n",
            "Name: V5, dtype: int64\n",
            "0    5420\n",
            "1    2744\n",
            "2    1213\n",
            "3     243\n",
            "4     123\n",
            "5      30\n",
            "6      25\n",
            "7      11\n",
            "9      10\n",
            "8       3\n",
            "Name: V6, dtype: int64\n",
            "4    2666\n",
            "5    2533\n",
            "6    1180\n",
            "3    1022\n",
            "7     995\n",
            "2     666\n",
            "9     290\n",
            "1     225\n",
            "0     127\n",
            "8     118\n",
            "Name: V7, dtype: int64\n",
            "0    3460\n",
            "1    3391\n",
            "2    2294\n",
            "3     415\n",
            "4     220\n",
            "5      42\n",
            "Name: V8, dtype: int64\n",
            "3    2476\n",
            "4    2245\n",
            "2    1778\n",
            "5    1572\n",
            "0     773\n",
            "6     394\n",
            "1     378\n",
            "7     179\n",
            "9      14\n",
            "8      13\n",
            "Name: V9, dtype: int64\n",
            "7    2800\n",
            "6    2015\n",
            "5    1628\n",
            "9    1345\n",
            "8     603\n",
            "4     550\n",
            "3     402\n",
            "2     252\n",
            "1     119\n",
            "0     108\n",
            "Name: V10, dtype: int64\n",
            "0    4185\n",
            "1    3402\n",
            "2    1790\n",
            "3     260\n",
            "4     133\n",
            "5      32\n",
            "6      18\n",
            "7       2\n",
            "Name: V11, dtype: int64\n",
            "2    2944\n",
            "0    1981\n",
            "3    1965\n",
            "4    1140\n",
            "1     900\n",
            "5     421\n",
            "6     299\n",
            "7     100\n",
            "9      41\n",
            "8      31\n",
            "Name: V12, dtype: int64\n",
            "0    2916\n",
            "2    2143\n",
            "1    1619\n",
            "3    1439\n",
            "4     890\n",
            "5     416\n",
            "6     222\n",
            "7     107\n",
            "8      36\n",
            "9      34\n",
            "Name: V13, dtype: int64\n",
            "3    2517\n",
            "4    2493\n",
            "2    1798\n",
            "5    1043\n",
            "0     613\n",
            "1     608\n",
            "6     516\n",
            "7     160\n",
            "9      47\n",
            "8      27\n",
            "Name: V14, dtype: int64\n",
            "4    1983\n",
            "5    1869\n",
            "3    1596\n",
            "6    1322\n",
            "2    1096\n",
            "7     601\n",
            "1     475\n",
            "8     341\n",
            "9     296\n",
            "0     243\n",
            "Name: V15, dtype: int64\n",
            "0    3621\n",
            "1    2176\n",
            "2    1921\n",
            "3     927\n",
            "4     577\n",
            "5     338\n",
            "6     123\n",
            "7      83\n",
            "8      39\n",
            "9      17\n",
            "Name: V16, dtype: int64\n",
            "4    2394\n",
            "3    2332\n",
            "2    1648\n",
            "5    1227\n",
            "0     711\n",
            "1     624\n",
            "6     526\n",
            "7     243\n",
            "9      64\n",
            "8      53\n",
            "Name: V17, dtype: int64\n",
            "5    1740\n",
            "6    1472\n",
            "4    1448\n",
            "3    1128\n",
            "2    1099\n",
            "7    1090\n",
            "9     531\n",
            "0     494\n",
            "8     424\n",
            "1     396\n",
            "Name: V18, dtype: int64\n",
            "0    2576\n",
            "2    2278\n",
            "1    2119\n",
            "3    1282\n",
            "4     641\n",
            "5     415\n",
            "6     248\n",
            "7     159\n",
            "9      57\n",
            "8      47\n",
            "Name: V19, dtype: int64\n",
            "0    7031\n",
            "1    2009\n",
            "2     600\n",
            "5      94\n",
            "3      70\n",
            "4      18\n",
            "Name: V20, dtype: int64\n",
            "0    6985\n",
            "1    1462\n",
            "2     815\n",
            "3     256\n",
            "4     144\n",
            "5     108\n",
            "6      21\n",
            "8      15\n",
            "9      13\n",
            "7       3\n",
            "Name: V21, dtype: int64\n",
            "2    2508\n",
            "3    2348\n",
            "4    1573\n",
            "0    1164\n",
            "5     726\n",
            "1     699\n",
            "6     348\n",
            "7     295\n",
            "9     137\n",
            "8      24\n",
            "Name: V22, dtype: int64\n",
            "2    2327\n",
            "0    1995\n",
            "3    1967\n",
            "1    1523\n",
            "4    1006\n",
            "5     524\n",
            "6     299\n",
            "7     119\n",
            "8      38\n",
            "9      24\n",
            "Name: V23, dtype: int64\n",
            "2    2460\n",
            "3    1817\n",
            "1    1685\n",
            "0    1636\n",
            "4    1289\n",
            "5     564\n",
            "6     216\n",
            "7     101\n",
            "9      37\n",
            "8      17\n",
            "Name: V24, dtype: int64\n",
            "0    2871\n",
            "1    2626\n",
            "2    2056\n",
            "3    1168\n",
            "4     452\n",
            "5     228\n",
            "6     152\n",
            "7     147\n",
            "9     106\n",
            "8      16\n",
            "Name: V25, dtype: int64\n",
            "2    3009\n",
            "1    2549\n",
            "0    2275\n",
            "3    1300\n",
            "4     459\n",
            "5     129\n",
            "6      53\n",
            "9      26\n",
            "8      13\n",
            "7       9\n",
            "Name: V26, dtype: int64\n",
            "2    2778\n",
            "3    2025\n",
            "0    1694\n",
            "1    1434\n",
            "4    1104\n",
            "5     588\n",
            "6     176\n",
            "8      11\n",
            "7       9\n",
            "9       3\n",
            "Name: V27, dtype: int64\n",
            "5    1953\n",
            "4    1929\n",
            "3    1845\n",
            "2    1468\n",
            "6     800\n",
            "0     634\n",
            "1     478\n",
            "7     396\n",
            "9     202\n",
            "8     117\n",
            "Name: V28, dtype: int64\n",
            "0    4376\n",
            "1    2658\n",
            "2    1434\n",
            "3     757\n",
            "4     378\n",
            "5     158\n",
            "6      37\n",
            "7      22\n",
            "9       1\n",
            "8       1\n",
            "Name: V29, dtype: int64\n",
            "0    1663\n",
            "9    1255\n",
            "2    1177\n",
            "3     961\n",
            "4     908\n",
            "8     874\n",
            "5     863\n",
            "1     755\n",
            "7     710\n",
            "6     656\n",
            "Name: V30, dtype: int64\n",
            "9    1663\n",
            "0    1255\n",
            "7    1185\n",
            "6     978\n",
            "5     912\n",
            "1     871\n",
            "4     834\n",
            "8     756\n",
            "2     712\n",
            "3     656\n",
            "Name: V31, dtype: int64\n",
            "6    2822\n",
            "7    2338\n",
            "5    2106\n",
            "9     829\n",
            "4     740\n",
            "8     435\n",
            "3     400\n",
            "2     102\n",
            "0      30\n",
            "1      20\n",
            "Name: V32, dtype: int64\n",
            "0    3078\n",
            "2    2999\n",
            "1    2454\n",
            "3     638\n",
            "4     531\n",
            "5     105\n",
            "6      14\n",
            "7       2\n",
            "9       1\n",
            "Name: V33, dtype: int64\n",
            "2    2611\n",
            "0    2475\n",
            "3    1871\n",
            "1    1327\n",
            "4    1020\n",
            "5     288\n",
            "6     145\n",
            "7      40\n",
            "9      27\n",
            "8      18\n",
            "Name: V34, dtype: int64\n",
            "7    2520\n",
            "5    1644\n",
            "6    1451\n",
            "9    1436\n",
            "8    1178\n",
            "4     628\n",
            "2     518\n",
            "3     315\n",
            "0     109\n",
            "1      23\n",
            "Name: V35, dtype: int64\n",
            "2    2520\n",
            "4    1668\n",
            "0    1436\n",
            "3    1415\n",
            "1    1178\n",
            "5     639\n",
            "7     518\n",
            "6     316\n",
            "9     109\n",
            "8      23\n",
            "Name: V36, dtype: int64\n",
            "0    2164\n",
            "2    1893\n",
            "3    1826\n",
            "1    1060\n",
            "4     981\n",
            "5     971\n",
            "6     512\n",
            "7     261\n",
            "9      78\n",
            "8      76\n",
            "Name: V37, dtype: int64\n",
            "4    2207\n",
            "3    1989\n",
            "5    1585\n",
            "2    1569\n",
            "0     782\n",
            "6     671\n",
            "1     486\n",
            "7     337\n",
            "9     134\n",
            "8      62\n",
            "Name: V38, dtype: int64\n",
            "3    2028\n",
            "2    1962\n",
            "4    1709\n",
            "0    1505\n",
            "1    1132\n",
            "5     828\n",
            "6     232\n",
            "7     170\n",
            "9     161\n",
            "8      95\n",
            "Name: V39, dtype: int64\n",
            "0    5464\n",
            "1    2251\n",
            "2    1256\n",
            "3     429\n",
            "4     278\n",
            "5     119\n",
            "6      10\n",
            "8       7\n",
            "9       6\n",
            "7       2\n",
            "Name: V40, dtype: int64\n",
            "0    8253\n",
            "1    1269\n",
            "2     188\n",
            "3      66\n",
            "4      38\n",
            "5       4\n",
            "6       2\n",
            "9       1\n",
            "7       1\n",
            "Name: V41, dtype: int64\n",
            "3    3232\n",
            "4    3063\n",
            "5    1268\n",
            "2    1110\n",
            "6     646\n",
            "7     228\n",
            "8     121\n",
            "1      78\n",
            "9      38\n",
            "0      38\n",
            "Name: V42, dtype: int64\n",
            "3    2556\n",
            "6    1587\n",
            "4    1539\n",
            "5     964\n",
            "1     938\n",
            "7     777\n",
            "2     731\n",
            "8     730\n",
            "Name: V43, dtype: int64\n",
            "0    5903\n",
            "2    3562\n",
            "1     341\n",
            "3      16\n",
            "Name: V44, dtype: int64\n",
            "0    9688\n",
            "2      53\n",
            "3      36\n",
            "4      26\n",
            "1       9\n",
            "6       5\n",
            "5       5\n",
            "Name: V45, dtype: int64\n",
            "0    9613\n",
            "4     108\n",
            "3      92\n",
            "2       7\n",
            "1       2\n",
            "Name: V46, dtype: int64\n",
            "0    4825\n",
            "6    3910\n",
            "5    1013\n",
            "7      64\n",
            "8       5\n",
            "4       4\n",
            "9       1\n",
            "Name: V47, dtype: int64\n",
            "0    9730\n",
            "6      71\n",
            "5      17\n",
            "7       4\n",
            "Name: V48, dtype: int64\n",
            "0    9460\n",
            "4     207\n",
            "6      79\n",
            "5      70\n",
            "3       4\n",
            "7       2\n",
            "Name: V49, dtype: int64\n",
            "0    9808\n",
            "6      10\n",
            "7       2\n",
            "4       1\n",
            "9       1\n",
            "Name: V50, dtype: int64\n",
            "0    9719\n",
            "2      62\n",
            "1      30\n",
            "3       9\n",
            "5       1\n",
            "4       1\n",
            "Name: V51, dtype: int64\n",
            "0    9576\n",
            "3     142\n",
            "4      45\n",
            "5      42\n",
            "6      16\n",
            "7       1\n",
            "Name: V52, dtype: int64\n",
            "0    9790\n",
            "4      11\n",
            "3       8\n",
            "2       7\n",
            "6       5\n",
            "1       1\n",
            "Name: V53, dtype: int64\n",
            "0    9150\n",
            "3     481\n",
            "4      99\n",
            "2      63\n",
            "5      27\n",
            "6       2\n",
            "Name: V54, dtype: int64\n",
            "0    9308\n",
            "4     172\n",
            "3     141\n",
            "5      65\n",
            "6      65\n",
            "2      51\n",
            "1      14\n",
            "7       4\n",
            "9       1\n",
            "8       1\n",
            "Name: V55, dtype: int64\n",
            "0    9777\n",
            "2      24\n",
            "3       7\n",
            "1       6\n",
            "4       4\n",
            "5       2\n",
            "6       2\n",
            "Name: V56, dtype: int64\n",
            "0    9744\n",
            "2      50\n",
            "3      28\n",
            "Name: V57, dtype: int64\n",
            "0    9784\n",
            "6      32\n",
            "7       4\n",
            "4       1\n",
            "5       1\n",
            "Name: V58, dtype: int64\n",
            "0    4464\n",
            "4    2142\n",
            "3    1541\n",
            "2     901\n",
            "5     263\n",
            "6     252\n",
            "1     245\n",
            "7      12\n",
            "8       2\n",
            "Name: V59, dtype: int64\n",
            "0    9813\n",
            "2       5\n",
            "1       3\n",
            "3       1\n",
            "Name: V60, dtype: int64\n",
            "0    9777\n",
            "4      18\n",
            "2       8\n",
            "1       6\n",
            "3       6\n",
            "5       4\n",
            "6       3\n",
            "Name: V61, dtype: int64\n",
            "0    9573\n",
            "1     249\n",
            "Name: V62, dtype: int64\n",
            "0    9740\n",
            "1      34\n",
            "2      30\n",
            "4       8\n",
            "3       7\n",
            "6       2\n",
            "5       1\n",
            "Name: V63, dtype: int64\n",
            "0    9687\n",
            "4      68\n",
            "3      34\n",
            "2      31\n",
            "5       2\n",
            "Name: V64, dtype: int64\n",
            "0    5903\n",
            "1    3909\n",
            "2      10\n",
            "Name: V65, dtype: int64\n",
            "0    9688\n",
            "1     133\n",
            "5       1\n",
            "Name: V66, dtype: int64\n",
            "0    9613\n",
            "1     209\n",
            "Name: V67, dtype: int64\n",
            "0     4825\n",
            "1     4580\n",
            "2      384\n",
            "3       21\n",
            "4        8\n",
            "7        1\n",
            "6        1\n",
            "12       1\n",
            "5        1\n",
            "Name: V68, dtype: int64\n",
            "0    9730\n",
            "1      83\n",
            "2       4\n",
            "3       3\n",
            "4       1\n",
            "5       1\n",
            "Name: V69, dtype: int64\n",
            "0    9460\n",
            "1     337\n",
            "2      22\n",
            "3       2\n",
            "8       1\n",
            "Name: V70, dtype: int64\n",
            "0    9808\n",
            "1       9\n",
            "2       3\n",
            "3       1\n",
            "4       1\n",
            "Name: V71, dtype: int64\n",
            "0    9719\n",
            "1      96\n",
            "2       5\n",
            "3       2\n",
            "Name: V72, dtype: int64\n",
            "0    9576\n",
            "1     184\n",
            "2      46\n",
            "3       7\n",
            "4       6\n",
            "6       2\n",
            "5       1\n",
            "Name: V73, dtype: int64\n",
            "0    9790\n",
            "1      21\n",
            "2       7\n",
            "3       2\n",
            "6       1\n",
            "4       1\n",
            "Name: V74, dtype: int64\n",
            "0    9150\n",
            "1     647\n",
            "2      24\n",
            "3       1\n",
            "Name: V75, dtype: int64\n",
            "0    9308\n",
            "1     305\n",
            "2     170\n",
            "3      23\n",
            "4      13\n",
            "5       2\n",
            "8       1\n",
            "Name: V76, dtype: int64\n",
            "0    9777\n",
            "1      45\n",
            "Name: V77, dtype: int64\n",
            "0    9744\n",
            "1      78\n",
            "Name: V78, dtype: int64\n",
            "0    9784\n",
            "1      34\n",
            "2       4\n",
            "Name: V79, dtype: int64\n",
            "1    5116\n",
            "0    4464\n",
            "2     221\n",
            "3      11\n",
            "4       6\n",
            "5       2\n",
            "7       1\n",
            "6       1\n",
            "Name: V80, dtype: int64\n",
            "0    9813\n",
            "1       9\n",
            "Name: V81, dtype: int64\n",
            "0    9777\n",
            "1      40\n",
            "2       5\n",
            "Name: V82, dtype: int64\n",
            "0    9573\n",
            "1     193\n",
            "2      53\n",
            "3       2\n",
            "4       1\n",
            "Name: V83, dtype: int64\n",
            "0    9740\n",
            "1      81\n",
            "2       1\n",
            "Name: V84, dtype: int64\n",
            "0    9687\n",
            "1     134\n",
            "2       1\n",
            "Name: V85, dtype: int64\n",
            "0    9474\n",
            "1     348\n",
            "Name: V86, dtype: int64\n",
            "train    5822\n",
            "test     4000\n",
            "Name: dtype, dtype: int64\n"
          ]
        }
      ],
      "source": [
        "for col in a :\n",
        "    b = All_data[col].value_counts()\n",
        "    print(b)"
      ]
    },
    {
      "cell_type": "code",
      "execution_count": 13,
      "metadata": {
        "colab": {
          "base_uri": "https://localhost:8080/"
        },
        "id": "8LjNRYqjp76D",
        "outputId": "efb1478f-ffdc-460b-dbff-213a75d775a2"
      },
      "outputs": [
        {
          "output_type": "stream",
          "name": "stdout",
          "text": [
            "V2\n",
            "V3\n",
            "V4\n",
            "V5\n",
            "V6\n",
            "V7\n",
            "V8\n",
            "V9\n",
            "V10\n",
            "V11\n",
            "V12\n",
            "V13\n",
            "V14\n",
            "V15\n",
            "V16\n",
            "V17\n",
            "V18\n",
            "V19\n",
            "V20\n"
          ]
        },
        {
          "output_type": "stream",
          "name": "stderr",
          "text": [
            "/usr/local/lib/python3.7/dist-packages/ipykernel_launcher.py:89: PerformanceWarning: DataFrame is highly fragmented.  This is usually the result of calling `frame.insert` many times, which has poor performance.  Consider joining all columns at once using pd.concat(axis=1) instead.  To get a de-fragmented frame, use `newframe = frame.copy()`\n"
          ]
        },
        {
          "output_type": "stream",
          "name": "stdout",
          "text": [
            "V21\n",
            "V22\n",
            "V23\n",
            "V24\n",
            "V25\n",
            "V26\n",
            "V27\n",
            "V28\n",
            "V29\n",
            "V30\n",
            "V31\n",
            "V32\n",
            "V33\n",
            "V34\n",
            "V35\n",
            "V36\n",
            "V37\n",
            "V38\n",
            "V39\n",
            "V40\n",
            "V41\n",
            "V42\n",
            "V43\n",
            "V44\n",
            "V45\n",
            "V46\n",
            "V47\n",
            "V48\n",
            "V49\n",
            "V50\n",
            "V51\n",
            "V52\n",
            "V53\n",
            "V54\n",
            "V55\n",
            "V56\n",
            "V57\n",
            "V58\n",
            "V59\n",
            "V60\n",
            "V61\n",
            "V63\n",
            "V64\n",
            "V65\n",
            "V66\n",
            "V68\n",
            "V69\n",
            "V70\n",
            "V71\n",
            "V72\n",
            "V73\n",
            "V74\n",
            "V75\n",
            "V76\n",
            "V79\n",
            "V80\n",
            "V82\n",
            "V83\n",
            "V84\n",
            "V85\n"
          ]
        }
      ],
      "source": [
        "for col in ['V2',\n",
        " 'V3',\n",
        " 'V4',\n",
        " 'V5',\n",
        " 'V6',\n",
        " 'V7',\n",
        " 'V8',\n",
        " 'V9',\n",
        " 'V10',\n",
        " 'V11',\n",
        " 'V12',\n",
        " 'V13',\n",
        " 'V14',\n",
        " 'V15',\n",
        " 'V16',\n",
        " 'V17',\n",
        " 'V18',\n",
        " 'V19',\n",
        " 'V20',\n",
        " 'V21',\n",
        " 'V22',\n",
        " 'V23',\n",
        " 'V24',\n",
        " 'V25',\n",
        " 'V26',\n",
        " 'V27',\n",
        " 'V28',\n",
        " 'V29',\n",
        " 'V30',\n",
        " 'V31',\n",
        " 'V32',\n",
        " 'V33',\n",
        " 'V34',\n",
        " 'V35',\n",
        " 'V36',\n",
        " 'V37',\n",
        " 'V38',\n",
        " 'V39',\n",
        " 'V40',\n",
        " 'V41',\n",
        " 'V42',\n",
        " 'V43',\n",
        " 'V44',\n",
        " 'V45',\n",
        " 'V46',\n",
        " 'V47',\n",
        " 'V48',\n",
        " 'V49',\n",
        " 'V50',\n",
        " 'V51',\n",
        " 'V52',\n",
        " 'V53',\n",
        " 'V54',\n",
        " 'V55',\n",
        " 'V56',\n",
        " 'V57',\n",
        " 'V58',\n",
        " 'V59',\n",
        " 'V60',\n",
        " 'V61',\n",
        " 'V63',\n",
        " 'V64',\n",
        " 'V65',\n",
        " 'V66',\n",
        " 'V68',\n",
        " 'V69',\n",
        " 'V70',\n",
        " 'V71',\n",
        " 'V72',\n",
        " 'V73',\n",
        " 'V74',\n",
        " 'V75',\n",
        " 'V76',\n",
        " 'V79',\n",
        " 'V80',\n",
        " 'V82',\n",
        " 'V83',\n",
        " 'V84',\n",
        " 'V85',\n",
        " ]:\n",
        "    \n",
        "    freq = All_data[col].value_counts()\n",
        "    select_catgory = freq.index[freq> 30][:-1]\n",
        "    \n",
        "    print(col)\n",
        "    \n",
        "    for cat in select_catgory:\n",
        "        name = col+'_'+str(cat)\n",
        "        All_data[name] = (All_data[col]== cat).astype(int)\n",
        "    del All_data[col]\n"
      ]
    },
    {
      "cell_type": "code",
      "execution_count": 14,
      "metadata": {
        "id": "6ppDfbjbp76G"
      },
      "outputs": [],
      "source": [
        "cct = All_data.iloc[0:5822,]"
      ]
    },
    {
      "cell_type": "code",
      "execution_count": 15,
      "metadata": {
        "id": "i2qJcw9pp76H"
      },
      "outputs": [],
      "source": [
        "ccts = All_data.iloc[5822:,]"
      ]
    },
    {
      "cell_type": "code",
      "execution_count": 16,
      "metadata": {
        "colab": {
          "base_uri": "https://localhost:8080/"
        },
        "id": "xuuzaWwLp76H",
        "outputId": "b0cd48fb-24c8-43b8-827a-605e965cbd09"
      },
      "outputs": [
        {
          "output_type": "stream",
          "name": "stderr",
          "text": [
            "/usr/local/lib/python3.7/dist-packages/ipykernel_launcher.py:1: FutureWarning: In a future version of pandas all arguments of DataFrame.drop except for the argument 'labels' will be keyword-only\n",
            "  \"\"\"Entry point for launching an IPython kernel.\n"
          ]
        }
      ],
      "source": [
        "cct =cct.drop(['dtype'],1)"
      ]
    },
    {
      "cell_type": "code",
      "execution_count": 17,
      "metadata": {
        "colab": {
          "base_uri": "https://localhost:8080/"
        },
        "id": "Eed2ptfAp76I",
        "outputId": "6765d775-11f1-413b-c593-2244ed206d37"
      },
      "outputs": [
        {
          "output_type": "stream",
          "name": "stderr",
          "text": [
            "/usr/local/lib/python3.7/dist-packages/ipykernel_launcher.py:1: FutureWarning: In a future version of pandas all arguments of DataFrame.drop except for the argument 'labels' will be keyword-only\n",
            "  \"\"\"Entry point for launching an IPython kernel.\n"
          ]
        }
      ],
      "source": [
        "ccts = ccts.drop(['dtype'],1)"
      ]
    },
    {
      "cell_type": "code",
      "execution_count": 18,
      "metadata": {
        "colab": {
          "base_uri": "https://localhost:8080/"
        },
        "id": "W8OtVecrp76J",
        "outputId": "60970041-c542-4dc3-c92f-07f44a2b546e"
      },
      "outputs": [
        {
          "output_type": "stream",
          "name": "stderr",
          "text": [
            "/usr/local/lib/python3.7/dist-packages/ipykernel_launcher.py:1: FutureWarning: In a future version of pandas all arguments of DataFrame.drop except for the argument 'labels' will be keyword-only\n",
            "  \"\"\"Entry point for launching an IPython kernel.\n"
          ]
        }
      ],
      "source": [
        "ccts =ccts.drop(['V86'],1)"
      ]
    },
    {
      "cell_type": "code",
      "execution_count": 19,
      "metadata": {
        "colab": {
          "base_uri": "https://localhost:8080/"
        },
        "id": "t3n2NM5Ep76J",
        "outputId": "f32709c0-2291-4d4f-ed87-7a9916f31713"
      },
      "outputs": [
        {
          "output_type": "stream",
          "name": "stderr",
          "text": [
            "/usr/local/lib/python3.7/dist-packages/ipykernel_launcher.py:1: FutureWarning: In a future version of pandas all arguments of DataFrame.drop except for the argument 'labels' will be keyword-only\n",
            "  \"\"\"Entry point for launching an IPython kernel.\n"
          ]
        }
      ],
      "source": [
        "x = cct.drop(['V86'],1)"
      ]
    },
    {
      "cell_type": "code",
      "execution_count": 20,
      "metadata": {
        "id": "QksmS9OUp76K"
      },
      "outputs": [],
      "source": [
        "y = cct['V86']"
      ]
    },
    {
      "cell_type": "code",
      "execution_count": 21,
      "metadata": {
        "id": "rj6mr5Kyp76L"
      },
      "outputs": [],
      "source": [
        "from sklearn.model_selection import train_test_split"
      ]
    },
    {
      "cell_type": "code",
      "execution_count": 22,
      "metadata": {
        "id": "OLAtdiKfp76M"
      },
      "outputs": [],
      "source": [
        "training, testing = train_test_split(cct , test_size =0.2,random_state = 2)"
      ]
    },
    {
      "cell_type": "code",
      "execution_count": 23,
      "metadata": {
        "colab": {
          "base_uri": "https://localhost:8080/"
        },
        "id": "0OIeDZEVp76N",
        "outputId": "fcc8b7b5-31df-4c09-e67b-af0299464f89"
      },
      "outputs": [
        {
          "output_type": "stream",
          "name": "stderr",
          "text": [
            "/usr/local/lib/python3.7/dist-packages/ipykernel_launcher.py:1: FutureWarning: In a future version of pandas all arguments of DataFrame.drop except for the argument 'labels' will be keyword-only\n",
            "  \"\"\"Entry point for launching an IPython kernel.\n"
          ]
        }
      ],
      "source": [
        "x_train = training.drop(['V86'],1)"
      ]
    },
    {
      "cell_type": "code",
      "execution_count": 24,
      "metadata": {
        "id": "mRyAffyjp76N"
      },
      "outputs": [],
      "source": [
        "y_train = training['V86']"
      ]
    },
    {
      "cell_type": "code",
      "execution_count": 25,
      "metadata": {
        "colab": {
          "base_uri": "https://localhost:8080/"
        },
        "id": "Cax5dNScp76O",
        "outputId": "068504c8-9a4e-44c0-a040-caca95429d8c"
      },
      "outputs": [
        {
          "output_type": "stream",
          "name": "stderr",
          "text": [
            "/usr/local/lib/python3.7/dist-packages/ipykernel_launcher.py:1: FutureWarning: In a future version of pandas all arguments of DataFrame.drop except for the argument 'labels' will be keyword-only\n",
            "  \"\"\"Entry point for launching an IPython kernel.\n"
          ]
        }
      ],
      "source": [
        "x_test = testing.drop(['V86'],1)"
      ]
    },
    {
      "cell_type": "code",
      "execution_count": 26,
      "metadata": {
        "id": "2CBm_UCLp76O"
      },
      "outputs": [],
      "source": [
        "y_test = testing['V86']"
      ]
    },
    {
      "cell_type": "code",
      "execution_count": 27,
      "metadata": {
        "id": "UQyEOcyqp76P"
      },
      "outputs": [],
      "source": [
        "from sklearn.linear_model import LogisticRegression"
      ]
    },
    {
      "cell_type": "code",
      "execution_count": 28,
      "metadata": {
        "id": "dH8GbmQDp76P"
      },
      "outputs": [],
      "source": [
        "logr = LogisticRegression()"
      ]
    },
    {
      "cell_type": "code",
      "execution_count": 29,
      "metadata": {
        "colab": {
          "base_uri": "https://localhost:8080/"
        },
        "id": "j9hj5dj3p76Q",
        "outputId": "a7e8fa6a-dfe8-4c93-a7e4-abbbba01e8e4"
      },
      "outputs": [
        {
          "output_type": "stream",
          "name": "stderr",
          "text": [
            "/usr/local/lib/python3.7/dist-packages/sklearn/linear_model/_logistic.py:818: ConvergenceWarning: lbfgs failed to converge (status=1):\n",
            "STOP: TOTAL NO. of ITERATIONS REACHED LIMIT.\n",
            "\n",
            "Increase the number of iterations (max_iter) or scale the data as shown in:\n",
            "    https://scikit-learn.org/stable/modules/preprocessing.html\n",
            "Please also refer to the documentation for alternative solver options:\n",
            "    https://scikit-learn.org/stable/modules/linear_model.html#logistic-regression\n",
            "  extra_warning_msg=_LOGISTIC_SOLVER_CONVERGENCE_MSG,\n"
          ]
        },
        {
          "output_type": "execute_result",
          "data": {
            "text/plain": [
              "LogisticRegression()"
            ]
          },
          "metadata": {},
          "execution_count": 29
        }
      ],
      "source": [
        "logr.fit(x_train,y_train)"
      ]
    },
    {
      "cell_type": "code",
      "execution_count": 30,
      "metadata": {
        "id": "DesJfin6p76R"
      },
      "outputs": [],
      "source": [
        "from sklearn.metrics import roc_auc_score"
      ]
    },
    {
      "cell_type": "code",
      "execution_count": 31,
      "metadata": {
        "colab": {
          "base_uri": "https://localhost:8080/"
        },
        "id": "yOJVAFtOp76R",
        "outputId": "83e3c17a-d7e0-450f-9719-c6d40df73036"
      },
      "outputs": [
        {
          "output_type": "execute_result",
          "data": {
            "text/plain": [
              "0.5319571865443425"
            ]
          },
          "metadata": {},
          "execution_count": 31
        }
      ],
      "source": [
        "roc_auc_score(y_test,logr.predict(x_test))"
      ]
    },
    {
      "cell_type": "code",
      "execution_count": 32,
      "metadata": {
        "id": "E8UmiDj9p76S"
      },
      "outputs": [],
      "source": [
        "from sklearn import tree"
      ]
    },
    {
      "cell_type": "code",
      "execution_count": 33,
      "metadata": {
        "id": "LwPb4xKip76S"
      },
      "outputs": [],
      "source": [
        "dtree = tree.DecisionTreeClassifier(criterion ='entropy',\n",
        "                                    max_leaf_nodes = 5,\n",
        "                                    class_weight ='balanced',\n",
        "                                    random_state= 2)"
      ]
    },
    {
      "cell_type": "code",
      "execution_count": 34,
      "metadata": {
        "colab": {
          "base_uri": "https://localhost:8080/"
        },
        "id": "fmR9AlxEp76T",
        "outputId": "8f8ad141-161b-4842-bcec-fd5486fef1ed"
      },
      "outputs": [
        {
          "output_type": "execute_result",
          "data": {
            "text/plain": [
              "DecisionTreeClassifier(class_weight='balanced', criterion='entropy',\n",
              "                       max_leaf_nodes=5, random_state=2)"
            ]
          },
          "metadata": {},
          "execution_count": 34
        }
      ],
      "source": [
        "dtree.fit(x_train, y_train)"
      ]
    },
    {
      "cell_type": "code",
      "execution_count": 35,
      "metadata": {
        "id": "1BcCQt7Jp76U"
      },
      "outputs": [],
      "source": [
        "from sklearn.ensemble import RandomForestClassifier"
      ]
    },
    {
      "cell_type": "code",
      "execution_count": 36,
      "metadata": {
        "colab": {
          "base_uri": "https://localhost:8080/"
        },
        "id": "mui8FLWUp76U",
        "outputId": "f001a637-f3b9-4ce0-f374-012fb8cd6115"
      },
      "outputs": [
        {
          "output_type": "execute_result",
          "data": {
            "text/plain": [
              "0.6866360856269113"
            ]
          },
          "metadata": {},
          "execution_count": 36
        }
      ],
      "source": [
        "roc_auc_score(y_test, dtree.predict(x_test))"
      ]
    },
    {
      "cell_type": "code",
      "execution_count": 37,
      "metadata": {
        "id": "SkgO6IkMp76V"
      },
      "outputs": [],
      "source": [
        "clf = RandomForestClassifier(n_estimators=1000,verbose=1,criterion='entropy',min_samples_split=7,\n",
        "                         bootstrap=True,max_depth=None,max_features=8,min_samples_leaf=5,\n",
        "                          class_weight=\"balanced\",n_jobs = -1,oob_score = True)"
      ]
    },
    {
      "cell_type": "code",
      "execution_count": 38,
      "metadata": {
        "colab": {
          "base_uri": "https://localhost:8080/"
        },
        "id": "mdX04cVRp76W",
        "outputId": "778ff64c-3f17-436c-9204-6977924837ea"
      },
      "outputs": [
        {
          "output_type": "stream",
          "name": "stderr",
          "text": [
            "[Parallel(n_jobs=-1)]: Using backend ThreadingBackend with 2 concurrent workers.\n",
            "[Parallel(n_jobs=-1)]: Done  46 tasks      | elapsed:    0.2s\n",
            "[Parallel(n_jobs=-1)]: Done 196 tasks      | elapsed:    0.9s\n",
            "[Parallel(n_jobs=-1)]: Done 446 tasks      | elapsed:    2.0s\n",
            "[Parallel(n_jobs=-1)]: Done 796 tasks      | elapsed:    3.5s\n",
            "[Parallel(n_jobs=-1)]: Done 1000 out of 1000 | elapsed:    4.4s finished\n"
          ]
        },
        {
          "output_type": "execute_result",
          "data": {
            "text/plain": [
              "RandomForestClassifier(class_weight='balanced', criterion='entropy',\n",
              "                       max_features=8, min_samples_leaf=5, min_samples_split=7,\n",
              "                       n_estimators=1000, n_jobs=-1, oob_score=True, verbose=1)"
            ]
          },
          "metadata": {},
          "execution_count": 38
        }
      ],
      "source": [
        "clf.fit(x_train,y_train)"
      ]
    },
    {
      "cell_type": "code",
      "execution_count": 39,
      "metadata": {
        "colab": {
          "base_uri": "https://localhost:8080/"
        },
        "id": "JAW3RFosp76X",
        "outputId": "35417824-2b1a-4bd8-8ac1-1e6c8a83759c"
      },
      "outputs": [
        {
          "output_type": "stream",
          "name": "stderr",
          "text": [
            "[Parallel(n_jobs=2)]: Using backend ThreadingBackend with 2 concurrent workers.\n",
            "[Parallel(n_jobs=2)]: Done  46 tasks      | elapsed:    0.0s\n",
            "[Parallel(n_jobs=2)]: Done 196 tasks      | elapsed:    0.1s\n",
            "[Parallel(n_jobs=2)]: Done 446 tasks      | elapsed:    0.2s\n",
            "[Parallel(n_jobs=2)]: Done 796 tasks      | elapsed:    0.4s\n",
            "[Parallel(n_jobs=2)]: Done 1000 out of 1000 | elapsed:    0.4s finished\n"
          ]
        },
        {
          "output_type": "execute_result",
          "data": {
            "text/plain": [
              "0.5632721712538226"
            ]
          },
          "metadata": {},
          "execution_count": 39
        }
      ],
      "source": [
        "roc_auc_score(y_test, clf.predict(x_test))"
      ]
    },
    {
      "cell_type": "code",
      "execution_count": 40,
      "metadata": {
        "id": "v6SQealRp76X"
      },
      "outputs": [],
      "source": [
        "#from sklearn.ensemble import AdaBoostClassifier"
      ]
    },
    {
      "cell_type": "code",
      "execution_count": 41,
      "metadata": {
        "id": "cyp6PMpxp76Y"
      },
      "outputs": [],
      "source": [
        "#ada = AdaBoostClassifier(base_estimator = dtree, learning_rate = 0.1,n_estimators = 500)"
      ]
    },
    {
      "cell_type": "code",
      "execution_count": 42,
      "metadata": {
        "id": "qP5na1Yjp76Y"
      },
      "outputs": [],
      "source": [
        "#ada.fit(x_train, y_train)"
      ]
    },
    {
      "cell_type": "code",
      "execution_count": 43,
      "metadata": {
        "id": "y-FezHoWp76Y"
      },
      "outputs": [],
      "source": [
        "#roc_auc_score(y_test, ada.predict(x_test))"
      ]
    },
    {
      "cell_type": "code",
      "execution_count": 44,
      "metadata": {
        "id": "xYV-DqTWp76Z"
      },
      "outputs": [],
      "source": [
        "beta = 2\n",
        "predicted= dtree.predict(x_test)\n",
        "df=pd.DataFrame(list(zip(y_test,predicted)),columns=[\"real\",\"predicted\"])\n",
        "TP=len(df[(df[\"real\"]==1) &(df[\"predicted\"]==1) ])\n",
        "FP=len(df[(df[\"real\"]==0) &(df[\"predicted\"]==1) ])\n",
        "FN=len(df[(df[\"real\"]==1) &(df[\"predicted\"]==0) ])\n",
        "P=TP+FN\n",
        "        \n",
        "        \n",
        "Precision=TP/(TP+FP)\n",
        "Recall=TP/P\n",
        "FB=(1+beta**2)*Precision*Recall/((beta**2)*Precision+Recall)"
      ]
    },
    {
      "cell_type": "code",
      "execution_count": 45,
      "metadata": {
        "colab": {
          "base_uri": "https://localhost:8080/"
        },
        "id": "Jhn9uIJpp76Z",
        "outputId": "eb4b9690-3afb-4ef8-d548-624b836748d7"
      },
      "outputs": [
        {
          "output_type": "execute_result",
          "data": {
            "text/plain": [
              "0.36697247706422015"
            ]
          },
          "metadata": {},
          "execution_count": 45
        }
      ],
      "source": [
        "FB"
      ]
    },
    {
      "cell_type": "code",
      "execution_count": 46,
      "metadata": {
        "id": "sJfeIJfup76Z"
      },
      "outputs": [],
      "source": [
        "final_model = dtree.fit(x,y)"
      ]
    },
    {
      "cell_type": "code",
      "execution_count": 47,
      "metadata": {
        "id": "aO931WfVp76a"
      },
      "outputs": [],
      "source": [
        "final_prediction = final_model.predict(ccts)"
      ]
    },
    {
      "cell_type": "code",
      "execution_count": 48,
      "metadata": {
        "id": "66JyUx2Gp76a"
      },
      "outputs": [],
      "source": [
        "final_prediction = pd.DataFrame(final_prediction,columns=['V86'])"
      ]
    },
    {
      "cell_type": "code",
      "execution_count": 50,
      "metadata": {
        "id": "8AaaJEHUp76a"
      },
      "outputs": [],
      "source": [
        "final_prediction.to_csv('P2_part2.csv',index=False)"
      ]
    },
    {
      "cell_type": "code",
      "execution_count": 49,
      "metadata": {
        "id": "3PCqkYE4p76b"
      },
      "outputs": [],
      "source": [
        ""
      ]
    }
  ],
  "metadata": {
    "kernelspec": {
      "display_name": "Python 3",
      "language": "python",
      "name": "python3"
    },
    "language_info": {
      "codemirror_mode": {
        "name": "ipython",
        "version": 3
      },
      "file_extension": ".py",
      "mimetype": "text/x-python",
      "name": "python",
      "nbconvert_exporter": "python",
      "pygments_lexer": "ipython3",
      "version": "3.7.6"
    },
    "colab": {
      "name": "Part-2_Project2.ipynb",
      "provenance": [],
      "include_colab_link": true
    }
  },
  "nbformat": 4,
  "nbformat_minor": 0
}